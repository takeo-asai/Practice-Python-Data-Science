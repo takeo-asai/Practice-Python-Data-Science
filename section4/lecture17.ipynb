{
  "nbformat": 4,
  "nbformat_minor": 0,
  "metadata": {
    "colab": {
      "name": "lecture17.ipynb",
      "version": "0.3.2",
      "provenance": [],
      "include_colab_link": true
    },
    "kernelspec": {
      "name": "python3",
      "display_name": "Python 3"
    }
  },
  "cells": [
    {
      "cell_type": "markdown",
      "metadata": {
        "id": "view-in-github",
        "colab_type": "text"
      },
      "source": [
        "[View in Colaboratory](https://colab.research.google.com/github/takeo-asai/Practice-Python-Data-Science/blob/master/section4/lecture17.ipynb)"
      ]
    },
    {
      "metadata": {
        "id": "m7Qeex95cK-f",
        "colab_type": "code",
        "colab": {}
      },
      "cell_type": "code",
      "source": [
        "import numpy as np\n",
        "import pandas as pd\n",
        "from pandas import Series, DataFrame\n",
        "from numpy.random import randn"
      ],
      "execution_count": 0,
      "outputs": []
    },
    {
      "metadata": {
        "id": "DDL3d7MJdUZo",
        "colab_type": "code",
        "colab": {
          "base_uri": "https://localhost:8080/",
          "height": 102
        },
        "outputId": "6a2eeb5d-591c-4425-d14a-fe53116b17c4"
      },
      "cell_type": "code",
      "source": [
        "ser1 = Series([1,2,3,4], index=['A','B','C','D'])\n",
        "ser1"
      ],
      "execution_count": 3,
      "outputs": [
        {
          "output_type": "execute_result",
          "data": {
            "text/plain": [
              "A    1\n",
              "B    2\n",
              "C    3\n",
              "D    4\n",
              "dtype: int64"
            ]
          },
          "metadata": {
            "tags": []
          },
          "execution_count": 3
        }
      ]
    },
    {
      "metadata": {
        "id": "STvejlpOdieg",
        "colab_type": "code",
        "colab": {
          "base_uri": "https://localhost:8080/",
          "height": 136
        },
        "outputId": "19248f0b-6543-4f15-9c8f-689efc971484"
      },
      "cell_type": "code",
      "source": [
        "ser2 = ser1.reindex(['A','B','C','D','E','F'])\n",
        "ser2"
      ],
      "execution_count": 4,
      "outputs": [
        {
          "output_type": "execute_result",
          "data": {
            "text/plain": [
              "A    1.0\n",
              "B    2.0\n",
              "C    3.0\n",
              "D    4.0\n",
              "E    NaN\n",
              "F    NaN\n",
              "dtype: float64"
            ]
          },
          "metadata": {
            "tags": []
          },
          "execution_count": 4
        }
      ]
    },
    {
      "metadata": {
        "id": "UOV-lYKid2xN",
        "colab_type": "code",
        "colab": {
          "base_uri": "https://localhost:8080/",
          "height": 153
        },
        "outputId": "bc959e62-04d6-40c9-ebdf-90795f75c931"
      },
      "cell_type": "code",
      "source": [
        "ser2.reindex(['A','B','C','D','E','F','G'], fill_value=0)"
      ],
      "execution_count": 5,
      "outputs": [
        {
          "output_type": "execute_result",
          "data": {
            "text/plain": [
              "A    1.0\n",
              "B    2.0\n",
              "C    3.0\n",
              "D    4.0\n",
              "E    NaN\n",
              "F    NaN\n",
              "G    0.0\n",
              "dtype: float64"
            ]
          },
          "metadata": {
            "tags": []
          },
          "execution_count": 5
        }
      ]
    },
    {
      "metadata": {
        "id": "zfHe0OlgeCX8",
        "colab_type": "code",
        "colab": {
          "base_uri": "https://localhost:8080/",
          "height": 85
        },
        "outputId": "e8c3b1a3-a7a6-4be5-de84-82f7fa5dd6d1"
      },
      "cell_type": "code",
      "source": [
        "ser3 = Series(['USA','Mexico','Canada'], index=[0,5,10])\n",
        "ser3"
      ],
      "execution_count": 6,
      "outputs": [
        {
          "output_type": "execute_result",
          "data": {
            "text/plain": [
              "0        USA\n",
              "5     Mexico\n",
              "10    Canada\n",
              "dtype: object"
            ]
          },
          "metadata": {
            "tags": []
          },
          "execution_count": 6
        }
      ]
    },
    {
      "metadata": {
        "id": "pTMByqwIeOUj",
        "colab_type": "code",
        "colab": {
          "base_uri": "https://localhost:8080/",
          "height": 289
        },
        "outputId": "7ab91be5-4d9b-481d-fa67-28782d543cbf"
      },
      "cell_type": "code",
      "source": [
        "ser3.reindex(range(15), method='ffill')"
      ],
      "execution_count": 7,
      "outputs": [
        {
          "output_type": "execute_result",
          "data": {
            "text/plain": [
              "0        USA\n",
              "1        USA\n",
              "2        USA\n",
              "3        USA\n",
              "4        USA\n",
              "5     Mexico\n",
              "6     Mexico\n",
              "7     Mexico\n",
              "8     Mexico\n",
              "9     Mexico\n",
              "10    Canada\n",
              "11    Canada\n",
              "12    Canada\n",
              "13    Canada\n",
              "14    Canada\n",
              "dtype: object"
            ]
          },
          "metadata": {
            "tags": []
          },
          "execution_count": 7
        }
      ]
    },
    {
      "metadata": {
        "id": "TSoCl0TleksF",
        "colab_type": "code",
        "colab": {
          "base_uri": "https://localhost:8080/",
          "height": 204
        },
        "outputId": "6cc24eb8-4993-4e21-cbed-2a99c9e7724d"
      },
      "cell_type": "code",
      "source": [
        "dframe = DataFrame(randn(25).reshape(5,5), index=['A','B','D','E','F'], columns=['col1','col2','col3','col4','col5'])\n",
        "dframe"
      ],
      "execution_count": 13,
      "outputs": [
        {
          "output_type": "execute_result",
          "data": {
            "text/html": [
              "<div>\n",
              "<style scoped>\n",
              "    .dataframe tbody tr th:only-of-type {\n",
              "        vertical-align: middle;\n",
              "    }\n",
              "\n",
              "    .dataframe tbody tr th {\n",
              "        vertical-align: top;\n",
              "    }\n",
              "\n",
              "    .dataframe thead th {\n",
              "        text-align: right;\n",
              "    }\n",
              "</style>\n",
              "<table border=\"1\" class=\"dataframe\">\n",
              "  <thead>\n",
              "    <tr style=\"text-align: right;\">\n",
              "      <th></th>\n",
              "      <th>col1</th>\n",
              "      <th>col2</th>\n",
              "      <th>col3</th>\n",
              "      <th>col4</th>\n",
              "      <th>col5</th>\n",
              "    </tr>\n",
              "  </thead>\n",
              "  <tbody>\n",
              "    <tr>\n",
              "      <th>A</th>\n",
              "      <td>1.670078</td>\n",
              "      <td>-1.850907</td>\n",
              "      <td>1.288112</td>\n",
              "      <td>0.882775</td>\n",
              "      <td>-1.814030</td>\n",
              "    </tr>\n",
              "    <tr>\n",
              "      <th>B</th>\n",
              "      <td>-0.356120</td>\n",
              "      <td>0.328406</td>\n",
              "      <td>0.710384</td>\n",
              "      <td>-0.479033</td>\n",
              "      <td>-0.703221</td>\n",
              "    </tr>\n",
              "    <tr>\n",
              "      <th>D</th>\n",
              "      <td>-0.090081</td>\n",
              "      <td>-1.192197</td>\n",
              "      <td>-1.361029</td>\n",
              "      <td>-0.525896</td>\n",
              "      <td>1.253072</td>\n",
              "    </tr>\n",
              "    <tr>\n",
              "      <th>E</th>\n",
              "      <td>-0.252150</td>\n",
              "      <td>-0.617214</td>\n",
              "      <td>0.440349</td>\n",
              "      <td>-1.585703</td>\n",
              "      <td>-0.474137</td>\n",
              "    </tr>\n",
              "    <tr>\n",
              "      <th>F</th>\n",
              "      <td>-0.690906</td>\n",
              "      <td>-1.476152</td>\n",
              "      <td>0.336553</td>\n",
              "      <td>-1.029763</td>\n",
              "      <td>-0.194516</td>\n",
              "    </tr>\n",
              "  </tbody>\n",
              "</table>\n",
              "</div>"
            ],
            "text/plain": [
              "       col1      col2      col3      col4      col5\n",
              "A  1.670078 -1.850907  1.288112  0.882775 -1.814030\n",
              "B -0.356120  0.328406  0.710384 -0.479033 -0.703221\n",
              "D -0.090081 -1.192197 -1.361029 -0.525896  1.253072\n",
              "E -0.252150 -0.617214  0.440349 -1.585703 -0.474137\n",
              "F -0.690906 -1.476152  0.336553 -1.029763 -0.194516"
            ]
          },
          "metadata": {
            "tags": []
          },
          "execution_count": 13
        }
      ]
    },
    {
      "metadata": {
        "id": "gmGoibnXfLHm",
        "colab_type": "code",
        "colab": {
          "base_uri": "https://localhost:8080/",
          "height": 235
        },
        "outputId": "a0043a9f-3d81-4594-cb74-a21d1f86147b"
      },
      "cell_type": "code",
      "source": [
        "new_index = ['A','B','C','D','E','F']\n",
        "dframe2 = dframe.reindex(new_index)\n",
        "dframe2"
      ],
      "execution_count": 15,
      "outputs": [
        {
          "output_type": "execute_result",
          "data": {
            "text/html": [
              "<div>\n",
              "<style scoped>\n",
              "    .dataframe tbody tr th:only-of-type {\n",
              "        vertical-align: middle;\n",
              "    }\n",
              "\n",
              "    .dataframe tbody tr th {\n",
              "        vertical-align: top;\n",
              "    }\n",
              "\n",
              "    .dataframe thead th {\n",
              "        text-align: right;\n",
              "    }\n",
              "</style>\n",
              "<table border=\"1\" class=\"dataframe\">\n",
              "  <thead>\n",
              "    <tr style=\"text-align: right;\">\n",
              "      <th></th>\n",
              "      <th>col1</th>\n",
              "      <th>col2</th>\n",
              "      <th>col3</th>\n",
              "      <th>col4</th>\n",
              "      <th>col5</th>\n",
              "    </tr>\n",
              "  </thead>\n",
              "  <tbody>\n",
              "    <tr>\n",
              "      <th>A</th>\n",
              "      <td>1.670078</td>\n",
              "      <td>-1.850907</td>\n",
              "      <td>1.288112</td>\n",
              "      <td>0.882775</td>\n",
              "      <td>-1.814030</td>\n",
              "    </tr>\n",
              "    <tr>\n",
              "      <th>B</th>\n",
              "      <td>-0.356120</td>\n",
              "      <td>0.328406</td>\n",
              "      <td>0.710384</td>\n",
              "      <td>-0.479033</td>\n",
              "      <td>-0.703221</td>\n",
              "    </tr>\n",
              "    <tr>\n",
              "      <th>C</th>\n",
              "      <td>NaN</td>\n",
              "      <td>NaN</td>\n",
              "      <td>NaN</td>\n",
              "      <td>NaN</td>\n",
              "      <td>NaN</td>\n",
              "    </tr>\n",
              "    <tr>\n",
              "      <th>D</th>\n",
              "      <td>-0.090081</td>\n",
              "      <td>-1.192197</td>\n",
              "      <td>-1.361029</td>\n",
              "      <td>-0.525896</td>\n",
              "      <td>1.253072</td>\n",
              "    </tr>\n",
              "    <tr>\n",
              "      <th>E</th>\n",
              "      <td>-0.252150</td>\n",
              "      <td>-0.617214</td>\n",
              "      <td>0.440349</td>\n",
              "      <td>-1.585703</td>\n",
              "      <td>-0.474137</td>\n",
              "    </tr>\n",
              "    <tr>\n",
              "      <th>F</th>\n",
              "      <td>-0.690906</td>\n",
              "      <td>-1.476152</td>\n",
              "      <td>0.336553</td>\n",
              "      <td>-1.029763</td>\n",
              "      <td>-0.194516</td>\n",
              "    </tr>\n",
              "  </tbody>\n",
              "</table>\n",
              "</div>"
            ],
            "text/plain": [
              "       col1      col2      col3      col4      col5\n",
              "A  1.670078 -1.850907  1.288112  0.882775 -1.814030\n",
              "B -0.356120  0.328406  0.710384 -0.479033 -0.703221\n",
              "C       NaN       NaN       NaN       NaN       NaN\n",
              "D -0.090081 -1.192197 -1.361029 -0.525896  1.253072\n",
              "E -0.252150 -0.617214  0.440349 -1.585703 -0.474137\n",
              "F -0.690906 -1.476152  0.336553 -1.029763 -0.194516"
            ]
          },
          "metadata": {
            "tags": []
          },
          "execution_count": 15
        }
      ]
    },
    {
      "metadata": {
        "id": "gyJGJ5ebfvX4",
        "colab_type": "code",
        "colab": {
          "base_uri": "https://localhost:8080/",
          "height": 204
        },
        "outputId": "da1d9070-5c5c-411d-acac-123360a727fb"
      },
      "cell_type": "code",
      "source": [
        "new_columns = ['col1','col2','col3','col4','col5', 'col6']\n",
        "dframe.reindex(columns=new_columns)"
      ],
      "execution_count": 17,
      "outputs": [
        {
          "output_type": "execute_result",
          "data": {
            "text/html": [
              "<div>\n",
              "<style scoped>\n",
              "    .dataframe tbody tr th:only-of-type {\n",
              "        vertical-align: middle;\n",
              "    }\n",
              "\n",
              "    .dataframe tbody tr th {\n",
              "        vertical-align: top;\n",
              "    }\n",
              "\n",
              "    .dataframe thead th {\n",
              "        text-align: right;\n",
              "    }\n",
              "</style>\n",
              "<table border=\"1\" class=\"dataframe\">\n",
              "  <thead>\n",
              "    <tr style=\"text-align: right;\">\n",
              "      <th></th>\n",
              "      <th>col1</th>\n",
              "      <th>col2</th>\n",
              "      <th>col3</th>\n",
              "      <th>col4</th>\n",
              "      <th>col5</th>\n",
              "      <th>col6</th>\n",
              "    </tr>\n",
              "  </thead>\n",
              "  <tbody>\n",
              "    <tr>\n",
              "      <th>A</th>\n",
              "      <td>1.670078</td>\n",
              "      <td>-1.850907</td>\n",
              "      <td>1.288112</td>\n",
              "      <td>0.882775</td>\n",
              "      <td>-1.814030</td>\n",
              "      <td>NaN</td>\n",
              "    </tr>\n",
              "    <tr>\n",
              "      <th>B</th>\n",
              "      <td>-0.356120</td>\n",
              "      <td>0.328406</td>\n",
              "      <td>0.710384</td>\n",
              "      <td>-0.479033</td>\n",
              "      <td>-0.703221</td>\n",
              "      <td>NaN</td>\n",
              "    </tr>\n",
              "    <tr>\n",
              "      <th>D</th>\n",
              "      <td>-0.090081</td>\n",
              "      <td>-1.192197</td>\n",
              "      <td>-1.361029</td>\n",
              "      <td>-0.525896</td>\n",
              "      <td>1.253072</td>\n",
              "      <td>NaN</td>\n",
              "    </tr>\n",
              "    <tr>\n",
              "      <th>E</th>\n",
              "      <td>-0.252150</td>\n",
              "      <td>-0.617214</td>\n",
              "      <td>0.440349</td>\n",
              "      <td>-1.585703</td>\n",
              "      <td>-0.474137</td>\n",
              "      <td>NaN</td>\n",
              "    </tr>\n",
              "    <tr>\n",
              "      <th>F</th>\n",
              "      <td>-0.690906</td>\n",
              "      <td>-1.476152</td>\n",
              "      <td>0.336553</td>\n",
              "      <td>-1.029763</td>\n",
              "      <td>-0.194516</td>\n",
              "      <td>NaN</td>\n",
              "    </tr>\n",
              "  </tbody>\n",
              "</table>\n",
              "</div>"
            ],
            "text/plain": [
              "       col1      col2      col3      col4      col5  col6\n",
              "A  1.670078 -1.850907  1.288112  0.882775 -1.814030   NaN\n",
              "B -0.356120  0.328406  0.710384 -0.479033 -0.703221   NaN\n",
              "D -0.090081 -1.192197 -1.361029 -0.525896  1.253072   NaN\n",
              "E -0.252150 -0.617214  0.440349 -1.585703 -0.474137   NaN\n",
              "F -0.690906 -1.476152  0.336553 -1.029763 -0.194516   NaN"
            ]
          },
          "metadata": {
            "tags": []
          },
          "execution_count": 17
        }
      ]
    },
    {
      "metadata": {
        "id": "ECvVKIcCgAw0",
        "colab_type": "code",
        "colab": {
          "base_uri": "https://localhost:8080/",
          "height": 235
        },
        "outputId": "001371fe-ae2b-43f2-a373-637a21867614"
      },
      "cell_type": "code",
      "source": [
        "dframe.ix[new_index, new_columns]"
      ],
      "execution_count": 19,
      "outputs": [
        {
          "output_type": "execute_result",
          "data": {
            "text/html": [
              "<div>\n",
              "<style scoped>\n",
              "    .dataframe tbody tr th:only-of-type {\n",
              "        vertical-align: middle;\n",
              "    }\n",
              "\n",
              "    .dataframe tbody tr th {\n",
              "        vertical-align: top;\n",
              "    }\n",
              "\n",
              "    .dataframe thead th {\n",
              "        text-align: right;\n",
              "    }\n",
              "</style>\n",
              "<table border=\"1\" class=\"dataframe\">\n",
              "  <thead>\n",
              "    <tr style=\"text-align: right;\">\n",
              "      <th></th>\n",
              "      <th>col1</th>\n",
              "      <th>col2</th>\n",
              "      <th>col3</th>\n",
              "      <th>col4</th>\n",
              "      <th>col5</th>\n",
              "      <th>col6</th>\n",
              "    </tr>\n",
              "  </thead>\n",
              "  <tbody>\n",
              "    <tr>\n",
              "      <th>A</th>\n",
              "      <td>1.670078</td>\n",
              "      <td>-1.850907</td>\n",
              "      <td>1.288112</td>\n",
              "      <td>0.882775</td>\n",
              "      <td>-1.814030</td>\n",
              "      <td>NaN</td>\n",
              "    </tr>\n",
              "    <tr>\n",
              "      <th>B</th>\n",
              "      <td>-0.356120</td>\n",
              "      <td>0.328406</td>\n",
              "      <td>0.710384</td>\n",
              "      <td>-0.479033</td>\n",
              "      <td>-0.703221</td>\n",
              "      <td>NaN</td>\n",
              "    </tr>\n",
              "    <tr>\n",
              "      <th>C</th>\n",
              "      <td>NaN</td>\n",
              "      <td>NaN</td>\n",
              "      <td>NaN</td>\n",
              "      <td>NaN</td>\n",
              "      <td>NaN</td>\n",
              "      <td>NaN</td>\n",
              "    </tr>\n",
              "    <tr>\n",
              "      <th>D</th>\n",
              "      <td>-0.090081</td>\n",
              "      <td>-1.192197</td>\n",
              "      <td>-1.361029</td>\n",
              "      <td>-0.525896</td>\n",
              "      <td>1.253072</td>\n",
              "      <td>NaN</td>\n",
              "    </tr>\n",
              "    <tr>\n",
              "      <th>E</th>\n",
              "      <td>-0.252150</td>\n",
              "      <td>-0.617214</td>\n",
              "      <td>0.440349</td>\n",
              "      <td>-1.585703</td>\n",
              "      <td>-0.474137</td>\n",
              "      <td>NaN</td>\n",
              "    </tr>\n",
              "    <tr>\n",
              "      <th>F</th>\n",
              "      <td>-0.690906</td>\n",
              "      <td>-1.476152</td>\n",
              "      <td>0.336553</td>\n",
              "      <td>-1.029763</td>\n",
              "      <td>-0.194516</td>\n",
              "      <td>NaN</td>\n",
              "    </tr>\n",
              "  </tbody>\n",
              "</table>\n",
              "</div>"
            ],
            "text/plain": [
              "       col1      col2      col3      col4      col5  col6\n",
              "A  1.670078 -1.850907  1.288112  0.882775 -1.814030   NaN\n",
              "B -0.356120  0.328406  0.710384 -0.479033 -0.703221   NaN\n",
              "C       NaN       NaN       NaN       NaN       NaN   NaN\n",
              "D -0.090081 -1.192197 -1.361029 -0.525896  1.253072   NaN\n",
              "E -0.252150 -0.617214  0.440349 -1.585703 -0.474137   NaN\n",
              "F -0.690906 -1.476152  0.336553 -1.029763 -0.194516   NaN"
            ]
          },
          "metadata": {
            "tags": []
          },
          "execution_count": 19
        }
      ]
    }
  ]
}